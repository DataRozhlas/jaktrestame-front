{
 "cells": [
  {
   "cell_type": "code",
   "execution_count": 1,
   "metadata": {},
   "outputs": [],
   "source": [
    "import csv"
   ]
  },
  {
   "cell_type": "code",
   "execution_count": 19,
   "metadata": {},
   "outputs": [
    {
     "data": {
      "text/plain": [
       "[{'label': 'soud_jmeno', 'value': 'soud_ID', 'nadr': 'soud_nadrizeny'},\n",
       " {'label': 'KS České Budějovice', 'value': 'KSJICCB', 'nadr': ''},\n",
       " {'label': 'KS Brno', 'value': 'KSJIMBM', 'nadr': ''},\n",
       " {'label': 'KS Ústí n.L.', 'value': 'KSSCEUL', 'nadr': ''},\n",
       " {'label': 'KS Ostrava', 'value': 'KSSEMOS', 'nadr': ''},\n",
       " {'label': 'KS Praha', 'value': 'KSSTCAB', 'nadr': ''},\n",
       " {'label': 'KS Hradec Králové', 'value': 'KSVYCHK', 'nadr': ''},\n",
       " {'label': 'KS Plzeň', 'value': 'KSZPCPM', 'nadr': ''},\n",
       " {'label': 'MS Brno-město', 'value': 'OSJIMBM', 'nadr': 'KS Brno'},\n",
       " {'label': 'MS Praha', 'value': 'MSPHAAB', 'nadr': ''},\n",
       " {'label': 'OS České Budějovice',\n",
       "  'value': 'OSJICCB',\n",
       "  'nadr': 'KS Č.Budějovice'},\n",
       " {'label': 'OS Český Krumlov', 'value': 'OSJICCK', 'nadr': 'KS Č.Budějovice'},\n",
       " {'label': 'OS Jindřichův Hradec',\n",
       "  'value': 'OSJICJH',\n",
       "  'nadr': 'KS Č.Budějovice'},\n",
       " {'label': 'OS Pelhřimov', 'value': 'OSJICPE', 'nadr': 'KS Č.Budějovice'},\n",
       " {'label': 'OS Písek', 'value': 'OSJICPI', 'nadr': 'KS Č.Budějovice'},\n",
       " {'label': 'OS Prachatice', 'value': 'OSJICPT', 'nadr': 'KS Č.Budějovice'},\n",
       " {'label': 'OS Strakonice', 'value': 'OSJICST', 'nadr': 'KS Č.Budějovice'},\n",
       " {'label': 'OS Tábor', 'value': 'OSJICTA', 'nadr': 'KS Č.Budějovice'},\n",
       " {'label': 'OS Blansko', 'value': 'OSJIMBK', 'nadr': 'KS Brno'},\n",
       " {'label': 'OS Brno-venkov', 'value': 'OSJIMBO', 'nadr': 'KS Brno'},\n",
       " {'label': 'OS Břeclav', 'value': 'OSJIMBV', 'nadr': 'KS Brno'},\n",
       " {'label': 'OS Hodonín', 'value': 'OSJIMHO', 'nadr': 'KS Brno'},\n",
       " {'label': 'OS Jihlava', 'value': 'OSJIMJI', 'nadr': 'KS Brno'},\n",
       " {'label': 'OS Kroměříž', 'value': 'OSJIMKM', 'nadr': 'KS Brno'},\n",
       " {'label': 'OS Prostějov', 'value': 'OSJIMPV', 'nadr': 'KS Brno'},\n",
       " {'label': 'OS Třebíč', 'value': 'OSJIMTR', 'nadr': 'KS Brno'},\n",
       " {'label': 'OS U.Hradiště', 'value': 'OSJIMUH', 'nadr': 'KS Brno'},\n",
       " {'label': 'OS Vyškov', 'value': 'OSJIMVY', 'nadr': 'KS Brno'},\n",
       " {'label': 'OS Zlín', 'value': 'OSJIMZL', 'nadr': 'KS Brno'},\n",
       " {'label': 'OS Znojmo', 'value': 'OSJIMZN', 'nadr': 'KS Brno'},\n",
       " {'label': 'OS Ždár n.S.', 'value': 'OSJIMZR', 'nadr': 'KS Brno'},\n",
       " {'label': 'OS Praha 1', 'value': 'OSPHA01', 'nadr': 'MS Praha'},\n",
       " {'label': 'OS Praha 2', 'value': 'OSPHA02', 'nadr': 'MS Praha'},\n",
       " {'label': 'OS Praha 3', 'value': 'OSPHA03', 'nadr': 'MS Praha'},\n",
       " {'label': 'OS Praha 4', 'value': 'OSPHA04', 'nadr': 'MS Praha'},\n",
       " {'label': 'OS Praha 5', 'value': 'OSPHA05', 'nadr': 'MS Praha'},\n",
       " {'label': 'OS Praha 6', 'value': 'OSPHA06', 'nadr': 'MS Praha'},\n",
       " {'label': 'OS Praha 7', 'value': 'OSPHA07', 'nadr': 'MS Praha'},\n",
       " {'label': 'OS Praha 8', 'value': 'OSPHA08', 'nadr': 'MS Praha'},\n",
       " {'label': 'OS Praha 9', 'value': 'OSPHA09', 'nadr': 'MS Praha'},\n",
       " {'label': 'OS Praha 10', 'value': 'OSPHA10', 'nadr': 'MS Praha'},\n",
       " {'label': 'OS Česká Lípa', 'value': 'OSSCECL', 'nadr': 'KS Ústí n.L.'},\n",
       " {'label': 'OS Chomutov', 'value': 'OSSCECV', 'nadr': 'KS Ústí n.L.'},\n",
       " {'label': 'OS Děčín', 'value': 'OSSCEDC', 'nadr': 'KS Ústí n.L.'},\n",
       " {'label': 'OS Jablonec n.N.', 'value': 'OSSCEJN', 'nadr': 'KS Ústí n.L.'},\n",
       " {'label': 'OS Liberec', 'value': 'OSSCELB', 'nadr': 'KS Ústí n.L.'},\n",
       " {'label': 'OS Louny', 'value': 'OSSCELN', 'nadr': 'KS Ústí n.L.'},\n",
       " {'label': 'OS Litoměřice', 'value': 'OSSCELT', 'nadr': 'KS Ústí n.L.'},\n",
       " {'label': 'OS Most', 'value': 'OSSCEMO', 'nadr': 'KS Ústí n.L.'},\n",
       " {'label': 'OS Teplice', 'value': 'OSSCETP', 'nadr': 'KS Ústí n.L.'},\n",
       " {'label': 'OS Ústí n.L.', 'value': 'OSSCEUL', 'nadr': 'KS Ústí n.L.'},\n",
       " {'label': 'OS Bruntál', 'value': 'OSSEMBR', 'nadr': 'KS Ostrava'},\n",
       " {'label': 'OS Frýdek-Místek', 'value': 'OSSEMFM', 'nadr': 'KS Ostrava'},\n",
       " {'label': 'OS Jeseník', 'value': 'OSSEMJE', 'nadr': 'KS Ostrava'},\n",
       " {'label': 'OS Karviná', 'value': 'OSSEMKA', 'nadr': 'KS Ostrava'},\n",
       " {'label': 'OS Nový Jičín', 'value': 'OSSEMNJ', 'nadr': 'KS Ostrava'},\n",
       " {'label': 'OS Olomouc', 'value': 'OSSEMOC', 'nadr': 'KS Ostrava'},\n",
       " {'label': 'OS Opava', 'value': 'OSSEMOP', 'nadr': 'KS Ostrava'},\n",
       " {'label': 'OS Ostrava', 'value': 'OSSEMOS', 'nadr': 'KS Ostrava'},\n",
       " {'label': 'OS Přerov', 'value': 'OSSEMPR', 'nadr': 'KS Ostrava'},\n",
       " {'label': 'OS Šumperk', 'value': 'OSSEMSU', 'nadr': 'KS Ostrava'},\n",
       " {'label': 'OS Vsetín', 'value': 'OSSEMVS', 'nadr': 'KS Ostrava'},\n",
       " {'label': 'OS Beroun', 'value': 'OSSTCBE', 'nadr': 'KS Praha'},\n",
       " {'label': 'OS Benešov', 'value': 'OSSTCBN', 'nadr': 'KS Praha'},\n",
       " {'label': 'OS Kutná Hora', 'value': 'OSSTCKH', 'nadr': 'KS Praha'},\n",
       " {'label': 'OS Kladno', 'value': 'OSSTCKL', 'nadr': 'KS Praha'},\n",
       " {'label': 'OS Kolín', 'value': 'OSSTCKO', 'nadr': 'KS Praha'},\n",
       " {'label': 'OS Mladá Boleslav', 'value': 'OSSTCMB', 'nadr': 'KS Praha'},\n",
       " {'label': 'OS Mělník', 'value': 'OSSTCME', 'nadr': 'KS Praha'},\n",
       " {'label': 'OS Nymburk', 'value': 'OSSTCNB', 'nadr': 'KS Praha'},\n",
       " {'label': 'OS Příbram', 'value': 'OSSTCPB', 'nadr': 'KS Praha'},\n",
       " {'label': 'OS Praha-východ', 'value': 'OSSTCPY', 'nadr': 'KS Praha'},\n",
       " {'label': 'OS Praha-západ', 'value': 'OSSTCPZ', 'nadr': 'KS Praha'},\n",
       " {'label': 'OS Rakovník', 'value': 'OSSTCRA', 'nadr': 'KS Praha'},\n",
       " {'label': 'OS Chrudim', 'value': 'OSVYCCR', 'nadr': 'KS H.Králové'},\n",
       " {'label': 'OS Havlíčkův Brod', 'value': 'OSVYCHB', 'nadr': 'KS H.Králové'},\n",
       " {'label': 'OS Hradec Králové', 'value': 'OSVYCHK', 'nadr': 'KS H.Králové'},\n",
       " {'label': 'OS Jičín', 'value': 'OSVYCJC', 'nadr': 'KS H.Králové'},\n",
       " {'label': 'OS Náchod', 'value': 'OSVYCNA', 'nadr': 'KS H.Králové'},\n",
       " {'label': 'OS Pardubice', 'value': 'OSVYCPA', 'nadr': 'KS H.Králové'},\n",
       " {'label': 'OS Rychnov n.K.', 'value': 'OSVYCRK', 'nadr': 'KS H.Králové'},\n",
       " {'label': 'OS Semily', 'value': 'OSVYCSM', 'nadr': 'KS H.Králové'},\n",
       " {'label': 'OS Svitavy', 'value': 'OSVYCSY', 'nadr': 'KS H.Králové'},\n",
       " {'label': 'OS Trutnov', 'value': 'OSVYCTU', 'nadr': 'KS H.Králové'},\n",
       " {'label': 'OS Ústí n.O.', 'value': 'OSVYCUO', 'nadr': 'KS H.Králové'},\n",
       " {'label': 'OS Cheb', 'value': 'OSZPCCH', 'nadr': 'KS Plzeň'},\n",
       " {'label': 'OS Domažlice', 'value': 'OSZPCDO', 'nadr': 'KS Plzeň'},\n",
       " {'label': 'OS Klatovy', 'value': 'OSZPCKT', 'nadr': 'KS Plzeň'},\n",
       " {'label': 'OS Karlovy Vary', 'value': 'OSZPCKV', 'nadr': 'KS Plzeň'},\n",
       " {'label': 'OS Plzeň-jih', 'value': 'OSZPCPJ', 'nadr': 'KS Plzeň'},\n",
       " {'label': 'OS Plzeň-město', 'value': 'OSZPCPM', 'nadr': 'KS Plzeň'},\n",
       " {'label': 'OS Plzeň-sever', 'value': 'OSZPCPS', 'nadr': 'KS Plzeň'},\n",
       " {'label': 'OS Rokycany', 'value': 'OSZPCRO', 'nadr': 'KS Plzeň'},\n",
       " {'label': 'OS Sokolov', 'value': 'OSZPCSO', 'nadr': 'KS Plzeň'},\n",
       " {'label': 'OS Tachov', 'value': 'OSZPCTC', 'nadr': 'KS Plzeň'}]"
      ]
     },
     "execution_count": 19,
     "metadata": {},
     "output_type": "execute_result"
    }
   ],
   "source": [
    "soudy = []\n",
    "with open('seznamy soudu.csv', newline='', encoding=\"utf8\") as file:\n",
    "    reader = csv.reader(file,delimiter=\";\")\n",
    "    for line in reader:\n",
    "        soud = {\"label\": line[0], \"value\": line[2]} \n",
    "        if line[1].startswith(\"VS\"): soud[\"nadr\"] = \"\"\n",
    "        else: soud[\"nadr\"] = line[1]\n",
    "        soudy.append(soud)\n",
    "soudy"
   ]
  },
  {
   "cell_type": "code",
   "execution_count": 3,
   "metadata": {},
   "outputs": [
    {
     "ename": "ValueError",
     "evalue": "I/O operation on closed file.",
     "output_type": "error",
     "traceback": [
      "\u001b[1;31m---------------------------------------------------------------------------\u001b[0m",
      "\u001b[1;31mValueError\u001b[0m                                Traceback (most recent call last)",
      "\u001b[1;32m<ipython-input-3-a5a941a06c1f>\u001b[0m in \u001b[0;36m<module>\u001b[1;34m\u001b[0m\n\u001b[1;32m----> 1\u001b[1;33m \u001b[1;32mfor\u001b[0m \u001b[0mline\u001b[0m \u001b[1;32min\u001b[0m \u001b[0mreader\u001b[0m\u001b[1;33m:\u001b[0m\u001b[1;33m\u001b[0m\u001b[1;33m\u001b[0m\u001b[0m\n\u001b[0m\u001b[0;32m      2\u001b[0m     \u001b[0mprint\u001b[0m\u001b[1;33m(\u001b[0m\u001b[0mline\u001b[0m\u001b[1;33m)\u001b[0m\u001b[1;33m\u001b[0m\u001b[1;33m\u001b[0m\u001b[0m\n",
      "\u001b[1;31mValueError\u001b[0m: I/O operation on closed file."
     ]
    }
   ],
   "source": []
  },
  {
   "cell_type": "code",
   "execution_count": null,
   "metadata": {},
   "outputs": [],
   "source": []
  }
 ],
 "metadata": {
  "kernelspec": {
   "display_name": "Python 3",
   "language": "python",
   "name": "python3"
  },
  "language_info": {
   "codemirror_mode": {
    "name": "ipython",
    "version": 3
   },
   "file_extension": ".py",
   "mimetype": "text/x-python",
   "name": "python",
   "nbconvert_exporter": "python",
   "pygments_lexer": "ipython3",
   "version": "3.7.3"
  }
 },
 "nbformat": 4,
 "nbformat_minor": 4
}
